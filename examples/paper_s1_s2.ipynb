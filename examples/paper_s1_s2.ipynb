{
 "cells": [
  {
   "cell_type": "code",
   "execution_count": 1,
   "metadata": {},
   "outputs": [],
   "source": [
    "import sys\n",
    "sys.path.append('..')"
   ]
  },
  {
   "cell_type": "code",
   "execution_count": 2,
   "metadata": {},
   "outputs": [],
   "source": [
    "# Global flag to set a specific platform, must be used at startup.\n",
    "import jax\n",
    "jax.config.update('jax_platform_name', 'cpu')"
   ]
  },
  {
   "cell_type": "code",
   "execution_count": 3,
   "metadata": {},
   "outputs": [],
   "source": [
    "# import jax\n",
    "import jax.numpy as jnp\n",
    "import numpy as np\n",
    "import matplotlib.pyplot as plt\n",
    "\n",
    "from itertools import compress\n",
    "\n",
    "from gruyere.brushes import notched_square_brush, show_mask\n",
    "from gruyere.design import Design, _initialize_design\n",
    "from gruyere.conditional_generator import _step_generator\n",
    "from gruyere.states import DesignState\n",
    "\n",
    "import matplotlib as mpl\n",
    "mpl.rcParams['figure.dpi'] = 70"
   ]
  },
  {
   "cell_type": "code",
   "execution_count": 4,
   "metadata": {},
   "outputs": [
    {
     "data": {
      "image/png": "[encoded data removed]",
      "text/plain": [
       "<Figure size 448x336 with 2 Axes>"
      ]
     },
     "metadata": {},
     "output_type": "display_data"
    }
   ],
   "source": [
    "my_brush = notched_square_brush(5, 1)\n",
    "show_mask(my_brush);"
   ]
  },
  {
   "cell_type": "code",
   "execution_count": 5,
   "metadata": {},
   "outputs": [
    {
     "data": {
      "image/png": "[encoded data removed]",
      "text/plain": [
       "<Figure size 448x336 with 1 Axes>"
      ]
     },
     "metadata": {},
     "output_type": "display_data"
    },
    {
     "name": "stdout",
     "output_type": "stream",
     "text": [
      "Step : 1\n"
     ]
    },
    {
     "data": {
      "image/png": "[encoded data removed]",
      "text/plain": [
       "<Figure size 1050x157.5 with 5 Axes>"
      ]
     },
     "metadata": {},
     "output_type": "display_data"
    }
   ],
   "source": [
    "reward = jnp.zeros((6,8))\n",
    "it = 1\n",
    "\n",
    "# Enforce the order of pixels\n",
    "eps = 0.1\n",
    "reward = reward.at[0,6].set(-1)\n",
    "reward = reward.at[0,0].set(1 - eps)\n",
    "reward = reward.at[4,6].set(-1 + 2 * eps)\n",
    "reward = reward.at[4,4].set(-1 + 3 * eps)\n",
    "reward = reward.at[5,0].set(-1 + 4 * eps)\n",
    "reward = reward.at[4,0].set(-1 + 5 * eps)\n",
    "reward = reward.at[2,5].set(-1 + 6 * eps)\n",
    "\n",
    "\n",
    "plt.imshow(reward)\n",
    "plt.show()\n",
    "\n",
    "# des = _initialize_design(reward.shape)\n",
    "des = _initialize_design(reward)\n",
    "\n",
    "des.show()\n",
    "print('Step :', it)"
   ]
  },
  {
   "cell_type": "code",
   "execution_count": 6,
   "metadata": {},
   "outputs": [
    {
     "name": "stdout",
     "output_type": "stream",
     "text": [
      "[[ 0.9  0.   0.   0.   0.   0.  -1.   0. ]\n",
      " [ 0.   0.   0.   0.   0.   0.   0.   0. ]\n",
      " [ 0.   0.   0.   0.   0.  -0.4  0.   0. ]\n",
      " [ 0.   0.   0.   0.   0.   0.   0.   0. ]\n",
      " [-0.5  0.   0.   0.  -0.7  0.  -0.8  0. ]\n",
      " [-0.6  0.   0.   0.   0.   0.   0.   0. ]]\n"
     ]
    }
   ],
   "source": [
    "print(reward)"
   ]
  },
  {
   "cell_type": "code",
   "execution_count": 7,
   "metadata": {},
   "outputs": [
    {
     "data": {
      "image/png": "[encoded data removed]",
      "text/plain": [
       "<Figure size 448x336 with 1 Axes>"
      ]
     },
     "metadata": {},
     "output_type": "display_data"
    }
   ],
   "source": [
    "import jax.scipy as jsp\n",
    "\n",
    "# total_reward = jsp.signal.convolve2d(reward, my_brush, mode='same')\n",
    "total_reward = reward\n",
    "plt.imshow(total_reward)\n",
    "plt.show()"
   ]
  },
  {
   "cell_type": "code",
   "execution_count": 8,
   "metadata": {},
   "outputs": [
    {
     "name": "stderr",
     "output_type": "stream",
     "text": [
      "/home/lucas/micromamba/envs/mamba_inverse_design/lib/python3.11/site-packages/jax/_src/numpy/lax_numpy.py:3493: UserWarning: 'kind' argument to argsort is ignored; only 'stable' sorts are supported.\n",
      "  warnings.warn(\"'kind' argument to argsort is ignored; only 'stable' sorts \"\n"
     ]
    }
   ],
   "source": [
    "order = np.argsort(jnp.abs(total_reward).flatten())\n",
    "id_sorted = list(\n",
    "    zip(\n",
    "        *map(lambda x: x.tolist(), jnp.unravel_index(order, reward.shape))\n",
    "    )\n",
    ")"
   ]
  },
  {
   "cell_type": "markdown",
   "metadata": {},
   "source": [
    "# Beginning of the feasible design generation"
   ]
  },
  {
   "cell_type": "markdown",
   "metadata": {},
   "source": [
    "des.show()\n",
    "print('Step :', it)"
   ]
  },
  {
   "cell_type": "markdown",
   "metadata": {},
   "source": [
    "print(id_sorted[-1])\n",
    "des = _step_generator(des, my_brush, id_sorted[-1])\n",
    "it += 1\n",
    "\n",
    "new_id_sorted = list(compress(id_sorted, (des.x == DesignState.UNASSIGNED).flatten()[order]))\n",
    "\n",
    "des.show()\n",
    "print('Step :', it)"
   ]
  },
  {
   "cell_type": "markdown",
   "metadata": {},
   "source": [
    "des = _step_generator(des, my_brush, (0,7))\n",
    "it += 1\n",
    "\n",
    "# id_sorted = list(compress(id_sorted, (des.x == DesignState.UNASSIGNED).flatten()[order]))\n",
    "\n",
    "des.show()\n",
    "print('Step :', it)"
   ]
  },
  {
   "cell_type": "markdown",
   "metadata": {},
   "source": [
    "print(id_sorted[-1])\n",
    "des = _step_generator(des, my_brush, new_id_sorted[-1])\n",
    "it += 1\n",
    "\n",
    "new_id_sorted = list(compress(id_sorted, (des.x == DesignState.UNASSIGNED).flatten()[order]))\n",
    "\n",
    "des.show()\n",
    "print('Step :', it)"
   ]
  },
  {
   "cell_type": "markdown",
   "metadata": {},
   "source": [
    "print(id_sorted[-1])\n",
    "des = _step_generator(des, my_brush, new_id_sorted[-1])\n",
    "it += 1\n",
    "\n",
    "new_id_sorted = list(compress(id_sorted, (des.x == DesignState.UNASSIGNED).flatten()[order]))\n",
    "\n",
    "des.show()\n",
    "print('Step :', it)"
   ]
  },
  {
   "cell_type": "markdown",
   "metadata": {},
   "source": [
    "des = _step_generator(des, my_brush, new_id_sorted[-1])\n",
    "it += 1\n",
    "\n",
    "des.show()\n",
    "print('Step :', it)"
   ]
  },
  {
   "cell_type": "code",
   "execution_count": 9,
   "metadata": {},
   "outputs": [],
   "source": [
    "from gruyere.conditional_generator import generator\n",
    "\n",
    "final_des = generator(reward, my_brush)"
   ]
  },
  {
   "cell_type": "code",
   "execution_count": 10,
   "metadata": {},
   "outputs": [
    {
     "data": {
      "image/png": "[encoded data removed]",
      "text/plain": [
       "<Figure size 1050x157.5 with 5 Axes>"
      ]
     },
     "metadata": {},
     "output_type": "display_data"
    }
   ],
   "source": [
    "final_des.show()"
   ]
  },
  {
   "cell_type": "code",
   "execution_count": null,
   "metadata": {},
   "outputs": [],
   "source": []
  }
 ],
 "metadata": {
  "kernelspec": {
   "display_name": "Python 3 (ipykernel)",
   "language": "python",
   "name": "python3"
  },
  "language_info": {
   "codemirror_mode": {
    "name": "ipython",
    "version": 3
   },
   "file_extension": ".py",
   "mimetype": "text/x-python",
   "name": "python",
   "nbconvert_exporter": "python",
   "pygments_lexer": "ipython3",
   "version": "3.11.0"
  },
  "orig_nbformat": 4
 },
 "nbformat": 4,
 "nbformat_minor": 2
}
